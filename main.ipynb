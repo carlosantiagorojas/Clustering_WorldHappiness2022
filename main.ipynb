{
 "cells": [
  {
   "cell_type": "code",
   "execution_count": null,
   "metadata": {},
   "outputs": [],
   "source": [
    "import numpy as np\n",
    "import matplotlib.pyplot as plt\n",
    "import pandas as pd"
   ]
  },
  {
   "cell_type": "code",
   "execution_count": null,
   "metadata": {},
   "outputs": [],
   "source": [
    "dataset = pd.read_csv('World Happiness Report 2022.csv')\n",
    "dataset.head()\n",
    "x_data = dataset.iloc[:, [3,4]].values"
   ]
  },
  {
   "cell_type": "code",
   "execution_count": null,
   "metadata": {},
   "outputs": [],
   "source": [
    "from sklearn.cluster import KMeans\n",
    "\n",
    "wcss = []\n",
    "\n",
    "for i in range(1, 20):\n",
    "    kmeans = KMeans(\n",
    "        n_clusters = i,\n",
    "    )\n",
    "\n",
    "    kmeans.fit(x_data)\n",
    "\n",
    "    wcss.append(kmeans.inertia_)"
   ]
  },
  {
   "cell_type": "code",
   "execution_count": null,
   "metadata": {},
   "outputs": [],
   "source": [
    "plt.plot(range(1, 20), wcss)"
   ]
  },
  {
   "cell_type": "code",
   "execution_count": null,
   "metadata": {},
   "outputs": [],
   "source": [
    "kmeans = KMeans(n_clusters = 5)\n",
    "y_kmeans = kmeans.fit_predict(x_data)"
   ]
  },
  {
   "cell_type": "code",
   "execution_count": null,
   "metadata": {},
   "outputs": [],
   "source": [
    "plt.scatter(x_data[y_kmeans == 0, 0], x_data[y_kmeans == 0, 1], s = 100, c = 'red', label = 'Cluster 1')\n",
    "plt.scatter(x_data[y_kmeans == 1, 0], x_data[y_kmeans == 1, 1], s = 100, c = 'blue', label = 'Cluster 2')\n",
    "plt.scatter(x_data[y_kmeans == 2, 0], x_data[y_kmeans == 2, 1], s = 100, c = 'green', label = 'Cluster 3')\n",
    "plt.scatter(x_data[y_kmeans == 3, 0], x_data[y_kmeans == 3, 1], s = 100, c = 'cyan', label = 'Cluster 4')\n",
    "plt.scatter(x_data[y_kmeans == 4, 0], x_data[y_kmeans == 4, 1], s = 100, c = 'magenta', label = 'Cluster 5')\n",
    "plt.scatter(kmeans.cluster_centers_[:, 0], kmeans.cluster_centers_[:, 1], s = 300, c = 'yellow', label = 'Centroids')\n",
    "plt.title('Clusters of Hapiness')\n",
    "plt.xlabel('Whisker-high')\n",
    "plt.ylabel('Whisker-low')\n",
    "plt.legend()\n",
    "plt.show()"
   ]
  },
  {
   "cell_type": "code",
   "execution_count": null,
   "metadata": {},
   "outputs": [],
   "source": [
    "import numpy as np\n",
    "import matplotlib.pyplot as plt\n",
    "import pandas as pd\n",
    "from sklearn.model_selection import train_test_split\n",
    "from sklearn.preprocessing import StandardScaler\n",
    "from sklearn.neighbors import KNeighborsClassifier\n",
    "from sklearn.metrics import confusion_matrix, accuracy_score\n",
    "from matplotlib.colors import ListedColormap\n",
    "from sklearn.cluster import KMeans\n",
    "\n",
    "# Carga el conjunto de datos\n",
    "data = pd.read_csv('World Happiness Report 2022.csv')  # Reemplaza \"tu_archivo.csv\" con el nombre de tu archivo de datos\n",
    "\n",
    "X = data[['Explained by: GDP per capita', 'Explained by: Social support']]\n",
    "\n",
    "scaler = StandardScaler()\n",
    "X_scaled = scaler.fit_transform(X)\n",
    "\n",
    "# Realiza un bucle para probar diferentes números de clusters\n",
    "wcss = []  # Lista para almacenar el \"codo\" de la suma de cuadrados\n",
    "for i in range(1, 11):\n",
    "    kmeans = KMeans(n_clusters=i, init='k-means++', random_state=42)\n",
    "    kmeans.fit(X_scaled)\n",
    "    wcss.append(kmeans.inertia_)  # Inertia es la suma de cuadrados dentro del cluster\n",
    "\n",
    "# Grafica el método del codo para encontrar el número óptimo de clusters\n",
    "plt.figure(figsize=(8, 6))\n",
    "plt.plot(range(1, 11), wcss, marker='o', linestyle='--')\n",
    "plt.xlabel('Número de clusters')\n",
    "plt.ylabel('Inertia')\n",
    "plt.title('Método del codo')\n",
    "plt.show()\n",
    "\n",
    "\n",
    "# Entrena el modelo K-Means con el número de clusters seleccionado\n",
    "n_clusters = 3  # Reemplaza con el número de clusters seleccionado\n",
    "kmeans = KMeans(n_clusters=n_clusters, init='k-means++', random_state=42)\n",
    "kmeans.fit(X_scaled)\n",
    "\n",
    "# Agrega las etiquetas de cluster al conjunto de datos original\n",
    "data['Cluster'] = kmeans.labels_\n",
    "\n"
   ]
  },
  {
   "cell_type": "code",
   "execution_count": null,
   "metadata": {},
   "outputs": [],
   "source": [
    "# Seleccionar las columnas relevantes\n",
    "X = data[[\"Explained by: GDP per capita\", \"Explained by: Social support\", \"Explained by: Healthy life expectancy\", \"Explained by: Freedom to make life choices\", \"Explained by: Generosity\", \"Explained by: Perceptions of corruption\"]]\n",
    "\n",
    "from sklearn.cluster import KMeans\n",
    "\n",
    "# Crear un modelo de k-means con 5 clústeres\n",
    "kmeans = KMeans(n_clusters=5, random_state=0)\n",
    "\n",
    "# Ajustar el modelo a los datos\n",
    "kmeans.fit(X)\n",
    "\n",
    "# Etiquetar los países con el clúster al que pertenecen\n",
    "labels = kmeans.labels_\n",
    "\n",
    "import plotly.express as px\n",
    "\n",
    "# Agregar las etiquetas de los clústeres al DataFrame original\n",
    "data['Cluster'] = labels\n",
    "\n",
    "# Crear un mapa interactivo con colores representando los clústeres\n",
    "fig = px.scatter_geo(data, locations=\"Country\", color=\"Cluster\", projection=\"natural earth\")\n",
    "\n",
    "# Mostrar el mapa\n",
    "fig.show()\n",
    "\n"
   ]
  }
 ],
 "metadata": {
  "language_info": {
   "name": "python"
  }
 },
 "nbformat": 4,
 "nbformat_minor": 2
}
